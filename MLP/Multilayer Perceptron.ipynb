{
 "cells": [
  {
   "cell_type": "markdown",
   "metadata": {},
   "source": [
    "## Importing libraries"
   ]
  },
  {
   "cell_type": "code",
   "execution_count": 55,
   "metadata": {},
   "outputs": [],
   "source": [
    "from sklearn import datasets\n",
    "from sklearn.neural_network import MLPClassifier\n",
    "from sklearn.model_selection import train_test_split\n",
    "from sklearn import metrics\n",
    "import numpy as np\n",
    "import pandas as pd"
   ]
  },
  {
   "cell_type": "markdown",
   "metadata": {},
   "source": [
    "## Splitting"
   ]
  },
  {
   "cell_type": "code",
   "execution_count": 56,
   "metadata": {},
   "outputs": [
    {
     "data": {
      "text/html": [
       "<div>\n",
       "<style scoped>\n",
       "    .dataframe tbody tr th:only-of-type {\n",
       "        vertical-align: middle;\n",
       "    }\n",
       "\n",
       "    .dataframe tbody tr th {\n",
       "        vertical-align: top;\n",
       "    }\n",
       "\n",
       "    .dataframe thead th {\n",
       "        text-align: right;\n",
       "    }\n",
       "</style>\n",
       "<table border=\"1\" class=\"dataframe\">\n",
       "  <thead>\n",
       "    <tr style=\"text-align: right;\">\n",
       "      <th></th>\n",
       "      <th>sepal length (cm)</th>\n",
       "      <th>sepal width (cm)</th>\n",
       "      <th>petal length (cm)</th>\n",
       "      <th>petal width (cm)</th>\n",
       "    </tr>\n",
       "  </thead>\n",
       "  <tbody>\n",
       "    <tr>\n",
       "      <th>0</th>\n",
       "      <td>5.1</td>\n",
       "      <td>3.5</td>\n",
       "      <td>1.4</td>\n",
       "      <td>0.2</td>\n",
       "    </tr>\n",
       "    <tr>\n",
       "      <th>1</th>\n",
       "      <td>4.9</td>\n",
       "      <td>3.0</td>\n",
       "      <td>1.4</td>\n",
       "      <td>0.2</td>\n",
       "    </tr>\n",
       "    <tr>\n",
       "      <th>2</th>\n",
       "      <td>4.7</td>\n",
       "      <td>3.2</td>\n",
       "      <td>1.3</td>\n",
       "      <td>0.2</td>\n",
       "    </tr>\n",
       "    <tr>\n",
       "      <th>3</th>\n",
       "      <td>4.6</td>\n",
       "      <td>3.1</td>\n",
       "      <td>1.5</td>\n",
       "      <td>0.2</td>\n",
       "    </tr>\n",
       "    <tr>\n",
       "      <th>4</th>\n",
       "      <td>5.0</td>\n",
       "      <td>3.6</td>\n",
       "      <td>1.4</td>\n",
       "      <td>0.2</td>\n",
       "    </tr>\n",
       "  </tbody>\n",
       "</table>\n",
       "</div>"
      ],
      "text/plain": [
       "   sepal length (cm)  sepal width (cm)  petal length (cm)  petal width (cm)\n",
       "0                5.1               3.5                1.4               0.2\n",
       "1                4.9               3.0                1.4               0.2\n",
       "2                4.7               3.2                1.3               0.2\n",
       "3                4.6               3.1                1.5               0.2\n",
       "4                5.0               3.6                1.4               0.2"
      ]
     },
     "metadata": {},
     "output_type": "display_data"
    }
   ],
   "source": [
    "iris_dataset = datasets.load_iris()\n",
    "\n",
    "target = iris_dataset.target\n",
    "df = pd.DataFrame(iris_dataset.data, columns=iris_dataset.feature_names)\n",
    "display(df.head())\n",
    "'''\n",
    "print(iris_dataset.target_names)\n",
    "print(target)\n",
    "\n",
    "print(iris_dataset.feature_names)\n",
    "print(iris_dataset.DESCR)\n",
    "'''\n",
    "\n",
    "X_train, X_test, y_train, y_test = train_test_split(df, target, test_size=0.2)"
   ]
  },
  {
   "cell_type": "markdown",
   "metadata": {},
   "source": [
    "## Creating Neural Networks"
   ]
  },
  {
   "cell_type": "code",
   "execution_count": 57,
   "metadata": {},
   "outputs": [],
   "source": [
    "one_layer_networks = []\n",
    "two_layers_networks = []\n",
    "activation_functions = ['logistic', 'relu']\n",
    "\n",
    "\n",
    "for i in range(3):\n",
    "    \n",
    "    one_layer_size = (np.random.randint(1, 11))\n",
    "    two_layers_size = (np.random.randint(1, 11), np.random.randint(1, 11))\n",
    "    activation_function = activation_functions[np.random.randint(2)]\n",
    "    \n",
    "    one_layer = MLPClassifier(hidden_layer_sizes = one_layer_size,\n",
    "                              learning_rate_init=0.004,\n",
    "                              batch_size=1,\n",
    "                              activation = activation_functions[np.random.randint(2)],\n",
    "                              max_iter = 50)\n",
    "    \n",
    "    two_layers = MLPClassifier(hidden_layer_sizes = two_layers_size,\n",
    "                               learning_rate_init=0.007,\n",
    "                               batch_size=1,\n",
    "                               activation = activation_functions[np.random.randint(2)],\n",
    "                               max_iter = 50)\n",
    "    \n",
    "    one_layer_networks.append(one_layer)\n",
    "    two_layers_networks.append(two_layers)\n",
    "\n"
   ]
  },
  {
   "cell_type": "markdown",
   "metadata": {},
   "source": [
    "## Training"
   ]
  },
  {
   "cell_type": "code",
   "execution_count": 58,
   "metadata": {},
   "outputs": [
    {
     "name": "stderr",
     "output_type": "stream",
     "text": [
      "/home/gets/anaconda3/lib/python3.6/site-packages/sklearn/neural_network/multilayer_perceptron.py:564: ConvergenceWarning: Stochastic Optimizer: Maximum iterations (50) reached and the optimization hasn't converged yet.\n",
      "  % self.max_iter, ConvergenceWarning)\n"
     ]
    }
   ],
   "source": [
    "for i in range(3):\n",
    "    one_layer_networks[i].fit(X_train, y_train)\n",
    "    two_layers_networks[i].fit(X_train, y_train)"
   ]
  },
  {
   "cell_type": "markdown",
   "metadata": {},
   "source": [
    "## Evaluation"
   ]
  },
  {
   "cell_type": "code",
   "execution_count": 63,
   "metadata": {},
   "outputs": [
    {
     "name": "stdout",
     "output_type": "stream",
     "text": [
      "One layer networks:\n",
      "\n",
      "One Layer Network 1 - Accuracy: 0.9666666666666667\n",
      "One Layer Network 1 - F1-Score: 0.9658994032395567\n",
      "\n",
      "One Layer Network 2 - Accuracy: 0.9666666666666667\n",
      "One Layer Network 2 - F1-Score: 0.9658994032395567\n",
      "\n",
      "One Layer Network 3 - Accuracy: 1.0\n",
      "One Layer Network 3 - F1-Score: 1.0\n",
      "\n",
      "\n",
      "Two layers networks:\n",
      "\n",
      "Two Layers Network 1 - Accuracy: 0.9666666666666667\n",
      "Two Layers Network 1 - F1-Score: 0.9658994032395567\n",
      "\n",
      "Two Layers Network 2 - Accuracy: 0.9666666666666667\n",
      "Two Layers Network 2 - F1-Score: 0.9658994032395567\n",
      "\n",
      "Two Layers Network 3 - Accuracy: 0.9666666666666667\n",
      "Two Layers Network 3 - F1-Score: 0.9658994032395567\n",
      "\n"
     ]
    }
   ],
   "source": [
    "y_true = y_test\n",
    "\n",
    "#one layer\n",
    "print('One layer networks:\\n')\n",
    "\n",
    "for i in range(3):\n",
    "    y_pred = one_layer_networks[i].predict(X_test)\n",
    "    accuracy = metrics.accuracy_score(y_true, y_pred)\n",
    "    f1_score = metrics.f1_score(y_true, y_pred, average='macro')  \n",
    "    \n",
    "    print(f'One Layer Network {i+1} - Accuracy: {accuracy}')\n",
    "    print(f'One Layer Network {i+1} - F1-Score: {f1_score}\\n')\n",
    "    \n",
    "#two layers\n",
    "print('\\nTwo layers networks:\\n')\n",
    "\n",
    "for i in range(3):\n",
    "    y_pred = two_layers_networks[i].predict(X_test)\n",
    "    accuracy = metrics.accuracy_score(y_true, y_pred)\n",
    "    f1_score = metrics.f1_score(y_true, y_pred, average='macro')  \n",
    "    \n",
    "    print(f'Two Layers Network {i+1} - Accuracy: {accuracy}')\n",
    "    print(f'Two Layers Network {i+1} - F1-Score: {f1_score}\\n')"
   ]
  },
  {
   "cell_type": "markdown",
   "metadata": {},
   "source": [
    "## Winner Network"
   ]
  },
  {
   "cell_type": "code",
   "execution_count": 61,
   "metadata": {},
   "outputs": [
    {
     "name": "stdout",
     "output_type": "stream",
     "text": [
      "The winner network:\n"
     ]
    },
    {
     "data": {
      "text/plain": [
       "MLPClassifier(activation='logistic', alpha=0.0001, batch_size=1, beta_1=0.9,\n",
       "       beta_2=0.999, early_stopping=False, epsilon=1e-08,\n",
       "       hidden_layer_sizes=4, learning_rate='constant',\n",
       "       learning_rate_init=0.004, max_iter=50, momentum=0.9,\n",
       "       nesterovs_momentum=True, power_t=0.5, random_state=None,\n",
       "       shuffle=True, solver='adam', tol=0.0001, validation_fraction=0.1,\n",
       "       verbose=False, warm_start=False)"
      ]
     },
     "metadata": {},
     "output_type": "display_data"
    }
   ],
   "source": [
    "print('The winner network:')\n",
    "display(one_layer_networks[2])"
   ]
  },
  {
   "cell_type": "code",
   "execution_count": 62,
   "metadata": {},
   "outputs": [
    {
     "name": "stdout",
     "output_type": "stream",
     "text": [
      "[[10  0  0]\n",
      " [ 0  8  0]\n",
      " [ 0  0 12]]\n"
     ]
    }
   ],
   "source": [
    "y_pred = one_layer_networks[2].predict(X_test)\n",
    "print(metrics.confusion_matrix(y_true, y_pred))"
   ]
  },
  {
   "cell_type": "markdown",
   "metadata": {},
   "source": [
    "## Questions about the activity"
   ]
  },
  {
   "cell_type": "markdown",
   "metadata": {},
   "source": [
    "### 1. O desempenho das diferentes RNAs neste problema foi homogêneo ou hetero-gênero? (Obtenha a estatística descritiva ou gráficos do F1-Score para ajudar nesta resposta);"
   ]
  },
  {
   "cell_type": "code",
   "execution_count": null,
   "metadata": {},
   "outputs": [],
   "source": [
    "#graficos\n"
   ]
  }
 ],
 "metadata": {
  "kernelspec": {
   "display_name": "Python 3",
   "language": "python",
   "name": "python3"
  },
  "language_info": {
   "codemirror_mode": {
    "name": "ipython",
    "version": 3
   },
   "file_extension": ".py",
   "mimetype": "text/x-python",
   "name": "python",
   "nbconvert_exporter": "python",
   "pygments_lexer": "ipython3",
   "version": "3.6.5"
  }
 },
 "nbformat": 4,
 "nbformat_minor": 2
}
